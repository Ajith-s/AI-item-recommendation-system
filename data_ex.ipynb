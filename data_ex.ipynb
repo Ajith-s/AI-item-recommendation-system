{
 "cells": [
  {
   "cell_type": "code",
   "execution_count": 5,
   "id": "458ff262-870f-447d-8478-463f680cc910",
   "metadata": {},
   "outputs": [],
   "source": [
    "import pandas as pd\n"
   ]
  },
  {
   "cell_type": "code",
   "execution_count": 7,
   "id": "74b4d784",
   "metadata": {},
   "outputs": [
    {
     "data": {
      "text/html": [
       "<div>\n",
       "<style scoped>\n",
       "    .dataframe tbody tr th:only-of-type {\n",
       "        vertical-align: middle;\n",
       "    }\n",
       "\n",
       "    .dataframe tbody tr th {\n",
       "        vertical-align: top;\n",
       "    }\n",
       "\n",
       "    .dataframe thead th {\n",
       "        text-align: right;\n",
       "    }\n",
       "</style>\n",
       "<table border=\"1\" class=\"dataframe\">\n",
       "  <thead>\n",
       "    <tr style=\"text-align: right;\">\n",
       "      <th></th>\n",
       "      <th>InvoiceNo</th>\n",
       "      <th>StockCode</th>\n",
       "      <th>Description</th>\n",
       "      <th>Quantity</th>\n",
       "      <th>InvoiceDate</th>\n",
       "      <th>UnitPrice</th>\n",
       "      <th>CustomerID</th>\n",
       "      <th>Country</th>\n",
       "    </tr>\n",
       "  </thead>\n",
       "  <tbody>\n",
       "    <tr>\n",
       "      <th>0</th>\n",
       "      <td>536365</td>\n",
       "      <td>85123A</td>\n",
       "      <td>WHITE HANGING HEART T-LIGHT HOLDER</td>\n",
       "      <td>6</td>\n",
       "      <td>2010-12-01 08:26:00</td>\n",
       "      <td>2.55</td>\n",
       "      <td>17850.0</td>\n",
       "      <td>United Kingdom</td>\n",
       "    </tr>\n",
       "    <tr>\n",
       "      <th>1</th>\n",
       "      <td>536365</td>\n",
       "      <td>71053</td>\n",
       "      <td>WHITE METAL LANTERN</td>\n",
       "      <td>6</td>\n",
       "      <td>2010-12-01 08:26:00</td>\n",
       "      <td>3.39</td>\n",
       "      <td>17850.0</td>\n",
       "      <td>United Kingdom</td>\n",
       "    </tr>\n",
       "    <tr>\n",
       "      <th>2</th>\n",
       "      <td>536365</td>\n",
       "      <td>84406B</td>\n",
       "      <td>CREAM CUPID HEARTS COAT HANGER</td>\n",
       "      <td>8</td>\n",
       "      <td>2010-12-01 08:26:00</td>\n",
       "      <td>2.75</td>\n",
       "      <td>17850.0</td>\n",
       "      <td>United Kingdom</td>\n",
       "    </tr>\n",
       "    <tr>\n",
       "      <th>3</th>\n",
       "      <td>536365</td>\n",
       "      <td>84029G</td>\n",
       "      <td>KNITTED UNION FLAG HOT WATER BOTTLE</td>\n",
       "      <td>6</td>\n",
       "      <td>2010-12-01 08:26:00</td>\n",
       "      <td>3.39</td>\n",
       "      <td>17850.0</td>\n",
       "      <td>United Kingdom</td>\n",
       "    </tr>\n",
       "    <tr>\n",
       "      <th>4</th>\n",
       "      <td>536365</td>\n",
       "      <td>84029E</td>\n",
       "      <td>RED WOOLLY HOTTIE WHITE HEART.</td>\n",
       "      <td>6</td>\n",
       "      <td>2010-12-01 08:26:00</td>\n",
       "      <td>3.39</td>\n",
       "      <td>17850.0</td>\n",
       "      <td>United Kingdom</td>\n",
       "    </tr>\n",
       "  </tbody>\n",
       "</table>\n",
       "</div>"
      ],
      "text/plain": [
       "  InvoiceNo StockCode                          Description  Quantity  \\\n",
       "0    536365    85123A   WHITE HANGING HEART T-LIGHT HOLDER         6   \n",
       "1    536365     71053                  WHITE METAL LANTERN         6   \n",
       "2    536365    84406B       CREAM CUPID HEARTS COAT HANGER         8   \n",
       "3    536365    84029G  KNITTED UNION FLAG HOT WATER BOTTLE         6   \n",
       "4    536365    84029E       RED WOOLLY HOTTIE WHITE HEART.         6   \n",
       "\n",
       "          InvoiceDate  UnitPrice  CustomerID         Country  \n",
       "0 2010-12-01 08:26:00       2.55     17850.0  United Kingdom  \n",
       "1 2010-12-01 08:26:00       3.39     17850.0  United Kingdom  \n",
       "2 2010-12-01 08:26:00       2.75     17850.0  United Kingdom  \n",
       "3 2010-12-01 08:26:00       3.39     17850.0  United Kingdom  \n",
       "4 2010-12-01 08:26:00       3.39     17850.0  United Kingdom  "
      ]
     },
     "execution_count": 7,
     "metadata": {},
     "output_type": "execute_result"
    }
   ],
   "source": [
    "df = pd.read_excel('Online Retail.xlsx', parse_dates=[\"InvoiceDate\"])\n",
    "df.head()"
   ]
  },
  {
   "cell_type": "code",
   "execution_count": 8,
   "id": "cc4e9025",
   "metadata": {},
   "outputs": [
    {
     "name": "stdout",
     "output_type": "stream",
     "text": [
      "<class 'pandas.core.frame.DataFrame'>\n",
      "RangeIndex: 541909 entries, 0 to 541908\n",
      "Data columns (total 8 columns):\n",
      " #   Column       Non-Null Count   Dtype         \n",
      "---  ------       --------------   -----         \n",
      " 0   InvoiceNo    541909 non-null  object        \n",
      " 1   StockCode    541909 non-null  object        \n",
      " 2   Description  540455 non-null  object        \n",
      " 3   Quantity     541909 non-null  int64         \n",
      " 4   InvoiceDate  541909 non-null  datetime64[ns]\n",
      " 5   UnitPrice    541909 non-null  float64       \n",
      " 6   CustomerID   406829 non-null  float64       \n",
      " 7   Country      541909 non-null  object        \n",
      "dtypes: datetime64[ns](1), float64(2), int64(1), object(4)\n",
      "memory usage: 33.1+ MB\n"
     ]
    }
   ],
   "source": [
    "df.info()"
   ]
  },
  {
   "cell_type": "markdown",
   "id": "8f31f702",
   "metadata": {},
   "source": [
    "## Data Pre-processing"
   ]
  },
  {
   "cell_type": "code",
   "execution_count": 9,
   "id": "de8aad9f",
   "metadata": {},
   "outputs": [
    {
     "name": "stderr",
     "output_type": "stream",
     "text": [
      "/var/folders/41/ntv91fbn6pj7gmvz0vp9hb6m0000gn/T/ipykernel_72301/374106956.py:20: FutureWarning: A value is trying to be set on a copy of a DataFrame or Series through chained assignment using an inplace method.\n",
      "The behavior will change in pandas 3.0. This inplace method will never work because the intermediate object on which we are setting values always behaves as a copy.\n",
      "\n",
      "For example, when doing 'df[col].method(value, inplace=True)', try using 'df.method({col: value}, inplace=True)' or df[col] = df[col].method(value) instead, to perform the operation inplace on the original object.\n",
      "\n",
      "\n",
      "  df['UnitPrice'].fillna(df['UnitPrice'].median(), inplace=True)\n"
     ]
    }
   ],
   "source": [
    "# drop rows with missing values for CustomerID\n",
    "df = df.dropna(subset=['CustomerID'])\n",
    "\n",
    "# convert CustomerID to integer\n",
    "df['CustomerID'] = df['CustomerID'].astype(int)\n",
    "\n",
    "# Remove rows with negative quantity\n",
    "df = df[df['Quantity'] > 0]\n",
    "\n",
    "# Remove rows with negative unit price\n",
    "df = df[df['UnitPrice'] > 0]\n",
    "\n",
    "# Aggregate data per customer-item pair\n",
    "customer_item_matrix = df.groupby(['CustomerID', 'StockCode'])['Quantity'].sum().unstack().fillna(0)\n",
    "\n",
    "# display the matrix\n",
    "customer_item_matrix.head()\n",
    "\n",
    "# fill in missing values for price with median value\n",
    "df['UnitPrice'].fillna(df['UnitPrice'].median(), inplace=True)"
   ]
  },
  {
   "cell_type": "code",
   "execution_count": 12,
   "id": "307b042a",
   "metadata": {},
   "outputs": [
    {
     "name": "stdout",
     "output_type": "stream",
     "text": [
      "Customer Similarity Matrix (Sample):\n",
      "CustomerID  12346     12347     12348     12349     12350\n",
      "CustomerID                                               \n",
      "12346         1.0  0.000000  0.000000  0.000000  0.000000\n",
      "12347         0.0  1.000000  0.148879  0.020750  0.014435\n",
      "12348         0.0  0.148879  1.000000  0.000169  0.000315\n",
      "12349         0.0  0.020750  0.000169  1.000000  0.030121\n",
      "12350         0.0  0.014435  0.000315  0.030121  1.000000\n",
      "\n",
      "Item Similarity Matrix (Sample):\n",
      "StockCode     10002     10080     10120     10125     10133\n",
      "StockCode                                                  \n",
      "10002      1.000000  0.000000  0.001548  0.853890  0.052085\n",
      "10080      0.000000  1.000000  0.000000  0.004958  0.020646\n",
      "10120      0.001548  0.000000  1.000000  0.001600  0.042543\n",
      "10125      0.853890  0.004958  0.001600  1.000000  0.011629\n",
      "10133      0.052085  0.020646  0.042543  0.011629  1.000000\n"
     ]
    }
   ],
   "source": [
    "from sklearn.metrics.pairwise import cosine_similarity\n",
    "\n",
    "# Compute customer-based similarity\n",
    "customer_sim = cosine_similarity(customer_item_matrix)\n",
    "customer_sim_df = pd.DataFrame(customer_sim, index=customer_item_matrix.index, columns=customer_item_matrix.index)\n",
    "\n",
    "# Compute item-based similarity\n",
    "item_sim = cosine_similarity(customer_item_matrix.T)\n",
    "item_sim_df = pd.DataFrame(item_sim, index=customer_item_matrix.columns, columns=customer_item_matrix.columns)\n",
    "\n",
    "# Display similarity matrices\n",
    "print(\"Customer Similarity Matrix (Sample):\")\n",
    "print(customer_sim_df.iloc[:5, :5])\n",
    "\n",
    "print(\"\\nItem Similarity Matrix (Sample):\")\n",
    "print(item_sim_df.iloc[:5, :5])\n"
   ]
  },
  {
   "cell_type": "markdown",
   "id": "40170178",
   "metadata": {},
   "source": [
    "# Building Recommender System"
   ]
  },
  {
   "cell_type": "code",
   "execution_count": 13,
   "id": "91193a48",
   "metadata": {},
   "outputs": [
    {
     "name": "stdout",
     "output_type": "stream",
     "text": [
      "Top Recommendations for Customer 12395:\n",
      " StockCode\n",
      "22243    442.360179\n",
      "22595    406.228011\n",
      "22492    364.749264\n",
      "22554    341.847674\n",
      "22328    339.772136\n",
      "20712    337.718462\n",
      "23204    311.118586\n",
      "20726    297.573005\n",
      "22951    289.943104\n",
      "20725    288.492152\n",
      "22382    272.216166\n",
      "23205    264.987872\n",
      "35961    262.087406\n",
      "22131    237.267453\n",
      "84991    233.864170\n",
      "dtype: float64\n"
     ]
    }
   ],
   "source": [
    "def get_hybrid_recommendations(customer_id, top_n=15, weight_customer=0.2, weight_item=0.8):\n",
    "    # Get top similar customers\n",
    "    similar_customers = customer_sim_df[customer_id].sort_values(ascending=False).iloc[1:6]  # Exclude self\n",
    "    \n",
    "    # Get items purchased by similar customers\n",
    "    customer_based_scores = customer_item_matrix.loc[similar_customers.index].sum().sort_values(ascending=False)\n",
    "\n",
    "    # Get items similar to those the customer already bought\n",
    "    purchased_items = customer_item_matrix.loc[customer_id]\n",
    "    purchased_items = purchased_items[purchased_items > 0].index  # Get list of purchased items\n",
    "    \n",
    "    item_based_scores = item_sim_df[purchased_items].sum(axis=1).sort_values(ascending=False)\n",
    "    \n",
    "    # Combine scores\n",
    "    hybrid_scores = (weight_customer * customer_based_scores) + (weight_item * item_based_scores)\n",
    "    hybrid_scores = hybrid_scores.sort_values(ascending=False)\n",
    "\n",
    "    # Remove items the customer has already purchased\n",
    "    hybrid_scores = hybrid_scores.drop(purchased_items, errors=\"ignore\")\n",
    "\n",
    "    return hybrid_scores.head(top_n)\n",
    "\n",
    "# Example: Get recommendations for a specific customer\n",
    "customer_id = 12395  # Replace with any customer ID\n",
    "recommendations = get_hybrid_recommendations(customer_id)\n",
    "print(f\"Top Recommendations for Customer {customer_id}:\\n\", recommendations)\n"
   ]
  },
  {
   "cell_type": "code",
   "execution_count": 14,
   "id": "3e425805",
   "metadata": {},
   "outputs": [
    {
     "name": "stdout",
     "output_type": "stream",
     "text": [
      "    StockCode       Score\n",
      "0       22243  429.116027\n",
      "1       22595  394.059087\n",
      "2       22492  353.822791\n",
      "3       22554  331.618897\n",
      "4       22328  329.591341\n",
      "5       20712  327.606194\n",
      "6       23204  301.802944\n",
      "7       20726  288.672469\n",
      "8       22951  281.260005\n",
      "9       20725  279.864041\n",
      "10      22382  264.076335\n",
      "11      23205  257.056152\n",
      "12      35961  254.242700\n",
      "13      22131  230.170474\n",
      "14      84991  226.863439\n",
      "15      20723  225.493090\n",
      "16      21390  225.323454\n",
      "17      22467  224.358438\n",
      "18      22908  222.575265\n",
      "19      22489  217.816332\n"
     ]
    }
   ],
   "source": [
    "def get_price_adjusted_recommendations(customer_id, top_n=10, price_weight=0.03):\n",
    "    # Get hybrid recommendations\n",
    "    hybrid_scores = get_hybrid_recommendations(customer_id, top_n=20)\n",
    "\n",
    "    # Ensure unique StockCode prices\n",
    "    df_price = df.groupby('StockCode')['UnitPrice'].median()\n",
    "\n",
    "    # Compute average spending of the customer\n",
    "    customer_purchases = customer_item_matrix.loc[customer_id]\n",
    "    avg_spending = (customer_purchases * df_price).sum() / customer_purchases.sum()\n",
    "\n",
    "    # Compute price scores\n",
    "    price_scores = 1 / (1 + abs(df_price - avg_spending))\n",
    "\n",
    "    # Align indexes correctly\n",
    "    valid_index = hybrid_scores.index.intersection(df_price.index)\n",
    "    price_scores = price_scores.reindex(valid_index, fill_value=0)\n",
    "    hybrid_scores = hybrid_scores.reindex(valid_index, fill_value=0)\n",
    "\n",
    "    # Combine hybrid and price-based scores\n",
    "    final_scores = (1 - price_weight) * hybrid_scores + price_weight * price_scores\n",
    "    final_scores = final_scores.sort_values(ascending=False)\n",
    "\n",
    "    recommendations_df = final_scores.reset_index().rename(columns={0: 'Score'})\n",
    "\n",
    "    # Merge with item descriptions\n",
    "    # descriptions = df[['StockCode', 'Description']].drop_duplicates().set_index('StockCode')\n",
    "    # recommendations_df = recommendations_df.merge(descriptions, left_on='StockCode', right_index=True, how='left')\n",
    "\n",
    "    return recommendations_df\n",
    "\n",
    "customer_id = 12395\n",
    "recommendations = get_price_adjusted_recommendations(customer_id)\n",
    "print(recommendations)\n"
   ]
  },
  {
   "cell_type": "code",
   "execution_count": 16,
   "id": "5ac8868b",
   "metadata": {},
   "outputs": [
    {
     "name": "stdout",
     "output_type": "stream",
     "text": [
      "Precision@5: 0.0000, Recall@5: 0.0000\n"
     ]
    }
   ],
   "source": [
    "def precision_recall_at_k(actual_items, recommended_items):\n",
    "    recommended_top_k = recommended_items\n",
    "    relevant_items = set(actual_items)  # Items the user actually purchased\n",
    "\n",
    "    hits = len(set(recommended_top_k) & relevant_items)\n",
    "    precision = hits \n",
    "    recall = hits / len(relevant_items) if relevant_items else 0\n",
    "\n",
    "    return precision, recall\n",
    "\n",
    "# Example usage\n",
    "customer_id = 17602 # Replace with an actual customer ID\n",
    "# df = df.reset_index()\n",
    "actual_purchases = df[df['CustomerID'] == customer_id]['StockCode'].unique()  # Items actually bought\n",
    "recommended_items = get_price_adjusted_recommendations(customer_id, top_n=10).index.tolist()\n",
    "\n",
    "precision, recall = precision_recall_at_k(actual_purchases, recommended_items)\n",
    "print(f\"Precision@5: {precision:.4f}, Recall@5: {recall:.4f}\")\n"
   ]
  },
  {
   "cell_type": "code",
   "execution_count": 22,
   "id": "82335905",
   "metadata": {},
   "outputs": [],
   "source": [
    "def get_price_adjusted_recommendations(customer_id, top_n=10, price_weight=0.3, repeat_weight=0.1):\n",
    "    # Get hybrid recommendations\n",
    "    hybrid_scores = get_hybrid_recommendations(customer_id, top_n=20)\n",
    "\n",
    "    # Ensure unique StockCode prices\n",
    "    df_price = df.groupby('StockCode')['UnitPrice'].median()\n",
    "\n",
    "    # Compute average spending of the customer\n",
    "    customer_purchases = customer_item_matrix.loc[customer_id]\n",
    "    avg_spending = (customer_purchases * df_price).sum() / customer_purchases.sum()\n",
    "\n",
    "    # Compute price scores\n",
    "    price_scores = 1 / (1 + abs(df_price - avg_spending))\n",
    "\n",
    "    # Compute repeat purchase scores (higher for past purchases)\n",
    "    past_purchases = set(df[df['CustomerID'] == customer_id]['StockCode'])\n",
    "    repeat_scores = pd.Series(0, index=hybrid_scores.index)\n",
    "    repeat_scores.loc[list(past_purchases & set(hybrid_scores.index))] = 1\n",
    "\n",
    "    # Align indexes correctly\n",
    "    valid_index = hybrid_scores.index.intersection(df_price.index)\n",
    "    price_scores = price_scores.reindex(valid_index, fill_value=0)\n",
    "    hybrid_scores = hybrid_scores.reindex(valid_index, fill_value=0)\n",
    "    repeat_scores = repeat_scores.reindex(valid_index, fill_value=0)\n",
    "\n",
    "    # Combine hybrid, price, and repeat purchase scores\n",
    "    final_scores = (1 - price_weight - repeat_weight) * hybrid_scores + \\\n",
    "                   price_weight * price_scores + repeat_weight * repeat_scores\n",
    "    final_scores = final_scores.sort_values(ascending=False)\n",
    "\n",
    "    return final_scores.head(top_n)"
   ]
  },
  {
   "cell_type": "code",
   "execution_count": 23,
   "id": "15b99c8e",
   "metadata": {},
   "outputs": [
    {
     "name": "stdout",
     "output_type": "stream",
     "text": [
      "StockCode\n",
      "21986     183.328866\n",
      "23309      21.957187\n",
      "21212      20.754768\n",
      "21975      19.872988\n",
      "21210      16.793933\n",
      "15056N     12.729076\n",
      "22417      11.699141\n",
      "23307      11.243603\n",
      "22728       7.304752\n",
      "22726       7.214365\n",
      "dtype: float64\n"
     ]
    }
   ],
   "source": [
    "customer_id = 12348\n",
    "recommendations = get_price_adjusted_recommendations(customer_id)\n",
    "print(recommendations)\n"
   ]
  },
  {
   "cell_type": "code",
   "execution_count": 117,
   "id": "fdb6a254",
   "metadata": {},
   "outputs": [
    {
     "name": "stdout",
     "output_type": "stream",
     "text": [
      "Average similarity between past purchases and recommended items: 0.02\n"
     ]
    }
   ],
   "source": [
    "from sklearn.feature_extraction.text import TfidfVectorizer\n",
    "from sklearn.metrics.pairwise import cosine_similarity\n",
    "\n",
    "# Get descriptions of purchased and recommended items\n",
    "purchased_descriptions = df[df['StockCode'].isin(actual_purchases)]['Description'].dropna().unique()\n",
    "recommended_descriptions = df[df['StockCode'].isin(recommendations.StockCode)]['Description'].dropna().unique()\n",
    "\n",
    "# Convert descriptions to TF-IDF vectors\n",
    "vectorizer = TfidfVectorizer(stop_words='english')\n",
    "tfidf_matrix = vectorizer.fit_transform(list(purchased_descriptions) + list(recommended_descriptions))\n",
    "\n",
    "# Compute cosine similarity between purchased and recommended items\n",
    "similarity_matrix = cosine_similarity(tfidf_matrix[:len(purchased_descriptions)], tfidf_matrix[len(purchased_descriptions):])\n",
    "avg_similarity = similarity_matrix.mean()  # Overall similarity score\n",
    "\n",
    "print(f\"Average similarity between past purchases and recommended items: {avg_similarity:.2f}\")\n"
   ]
  },
  {
   "cell_type": "markdown",
   "id": "37490d1e",
   "metadata": {},
   "source": [
    "# Improve recommendations using the Description"
   ]
  },
  {
   "cell_type": "code",
   "execution_count": 45,
   "id": "701f2311",
   "metadata": {},
   "outputs": [],
   "source": [
    "import numpy as np\n",
    "from gensim.models import Word2Vec\n",
    "\n",
    "# Train Word2Vec on product descriptions\n",
    "df['Description'] = df['Description'].astype(str)  # Ensure descriptions are strings\n",
    "descriptions = [desc.split() for desc in df['Description'].dropna().unique()]\n",
    "w2v_model = Word2Vec(sentences=descriptions, vector_size=50, window=5, min_count=1, workers=4)\n",
    "\n",
    "# Create a dictionary mapping StockCode → item_vector\n",
    "item_vector_dict = {}\n",
    "for stock_code, desc in df[['StockCode', 'Description']].dropna().values:\n",
    "    words = desc.split()\n",
    "    vectors = [w2v_model.wv[word] for word in words if word in w2v_model.wv]\n",
    "    if vectors:\n",
    "        item_vector_dict[stock_code] = np.mean(vectors, axis=0)  # Average word vectors for the product\n",
    "\n",
    "# Assign vectors to the DataFrame efficiently\n",
    "df['item_vector'] = df['StockCode'].map(item_vector_dict)\n",
    "df = df[df['item_vector'].notna()]  # Remove rows without vectors\n",
    "\n",
    "# Convert the column into a NumPy array\n",
    "item_vectors_matrix = np.vstack(df['item_vector'].values)\n",
    "\n"
   ]
  },
  {
   "cell_type": "code",
   "execution_count": 44,
   "id": "21b348a1",
   "metadata": {},
   "outputs": [
    {
     "data": {
      "text/plain": [
       "0    [0.01814923, -0.016774353, -0.0045392537, -0.0...\n",
       "1    [0.0037160965, 0.002281434, 0.01178594, 0.0071...\n",
       "2    [0.014744875, -0.0029513403, 0.004356085, -0.0...\n",
       "3    [0.023867821, 0.0066533685, 0.0030053717, -0.0...\n",
       "4    [0.006448096, 6.395867e-05, 0.0025584945, -0.0...\n",
       "Name: item_vector, dtype: object"
      ]
     },
     "execution_count": 44,
     "metadata": {},
     "output_type": "execute_result"
    }
   ],
   "source": [
    "df['item_vector'].head()"
   ]
  },
  {
   "cell_type": "code",
   "execution_count": 57,
   "id": "962eeb32",
   "metadata": {},
   "outputs": [
    {
     "name": "stdout",
     "output_type": "stream",
     "text": [
      "New average similarity: 0.88\n"
     ]
    }
   ],
   "source": [
    "from sklearn.metrics.pairwise import cosine_similarity\n",
    "import numpy as np\n",
    "\n",
    "# Create a mapping of StockCode to row index in item_vectors_matrix\n",
    "stockcode_to_index = {stock: i for i, stock in enumerate(df['StockCode'].values)}\n",
    "\n",
    "# Convert the column into a NumPy array\n",
    "item_vectors_matrix = np.vstack(df['item_vector'].values)\n",
    "\n",
    "def get_item_vector(item):\n",
    "    index = stockcode_to_index.get(item)\n",
    "    if index is not None:\n",
    "        return item_vectors_matrix[index]\n",
    "    return None\n",
    "\n",
    "\n",
    "def get_price_adjusted_recommendations(customer_id, top_n=10, price_weight=0.05, text_weight=0.3):\n",
    "    # Get hybrid recommendations\n",
    "    hybrid_scores = get_hybrid_recommendations(customer_id, top_n=20)\n",
    "\n",
    "    # Compute price scores\n",
    "    df_price = df.groupby('StockCode')['UnitPrice'].median()\n",
    "    customer_purchases = customer_item_matrix.loc[customer_id]\n",
    "    avg_spending = (customer_purchases * df_price).sum() / customer_purchases.sum()\n",
    "    price_scores = 1 / (1 + abs(df_price - avg_spending))\n",
    "\n",
    "    # Align price_scores to match hybrid_scores\n",
    "    price_scores = price_scores.reindex(hybrid_scores.index).fillna(0)\n",
    "\n",
    "    # Get actual purchases for the customer\n",
    "    actual_purchases = customer_purchases[customer_purchases > 0].index.tolist()\n",
    "\n",
    "    # Compute purchased vectors efficiently\n",
    "    purchased_vectors = np.array([get_item_vector(item) for item in actual_purchases if get_item_vector(item) is not None])\n",
    "\n",
    "    # Compute recommended vectors efficiently\n",
    "    recommended_vectors = np.array([get_item_vector(item) for item in hybrid_scores.index if get_item_vector(item) is not None])\n",
    "\n",
    "    # Ensure both purchased_vectors and recommended_vectors are not empty\n",
    "    if purchased_vectors.size > 0 and recommended_vectors.size > 0:\n",
    "        purchased_mean_vector = purchased_vectors.mean(axis=0).reshape(1, -1)\n",
    "        text_scores = cosine_similarity(purchased_mean_vector, recommended_vectors).flatten()\n",
    "        if text_scores.max() > text_scores.min():  \n",
    "            text_scores = (text_scores - text_scores.min()) / (text_scores.max() - text_scores.min())   # Normalize\n",
    "        else:\n",
    "            text_scores = np.zeros_like(text_scores)  # Avoid NaNs\n",
    "    else:\n",
    "        text_scores = np.zeros(len(hybrid_scores))  # If no vectors available, set text_scores to zero\n",
    "\n",
    "    # Combine hybrid, price, and text scores\n",
    "    final_scores = (1 - price_weight - text_weight) * hybrid_scores + price_weight * price_scores + text_weight * text_scores\n",
    "    final_scores = final_scores.sort_values(ascending=False)\n",
    "\n",
    "    return final_scores.head(top_n)\n",
    "\n",
    "# Test the function\n",
    "customer_id = 13402\n",
    "\n",
    "customer_purchases = customer_item_matrix.loc[customer_id]\n",
    "actual_purchases = customer_purchases[customer_purchases > 0].index.tolist()\n",
    "\n",
    "new_recommendations = get_price_adjusted_recommendations(customer_id, top_n=10).index.tolist()\n",
    "\n",
    "# Get item vectors for purchased and recommended items\n",
    "new_purchased_vectors = np.array([get_item_vector(item) for item in actual_purchases if get_item_vector(item) is not None])\n",
    "new_recommended_vectors = np.array([get_item_vector(item) for item in new_recommendations if get_item_vector(item) is not None])\n",
    "\n",
    "# Ensure vectors are not empty before computing similarity\n",
    "if new_purchased_vectors.size > 0 and new_recommended_vectors.size > 0:\n",
    "    new_avg_similarity = np.mean([cosine_similarity(pv.reshape(1, -1), rv.reshape(1, -1))[0, 0]\n",
    "                                  for pv in new_purchased_vectors for rv in new_recommended_vectors])\n",
    "else:\n",
    "    new_avg_similarity = 0  # Default value if no vectors are available\n",
    "\n",
    "print(f\"New average similarity: {new_avg_similarity:.2f}\")"
   ]
  },
  {
   "cell_type": "code",
   "execution_count": 48,
   "id": "ad9d6b0e",
   "metadata": {},
   "outputs": [
    {
     "data": {
      "text/plain": [
       "StockCode\n",
       "21986     122.589650\n",
       "23309      15.024347\n",
       "21212      14.221993\n",
       "21975      13.631525\n",
       "21210      11.552765\n",
       "15056N      8.502076\n",
       "22417       8.184379\n",
       "23307       7.881808\n",
       "22728       5.174128\n",
       "22726       5.102143\n",
       "dtype: float64"
      ]
     },
     "execution_count": 48,
     "metadata": {},
     "output_type": "execute_result"
    }
   ],
   "source": [
    "get_price_adjusted_recommendations(12348)"
   ]
  },
  {
   "cell_type": "code",
   "execution_count": 58,
   "id": "3ee833d6",
   "metadata": {},
   "outputs": [
    {
     "name": "stdout",
     "output_type": "stream",
     "text": [
      "New average similarity: 0.88\n"
     ]
    }
   ],
   "source": [
    "new_recommendations = get_price_adjusted_recommendations(customer_id, top_n=10).index.tolist()\n",
    "\n",
    "# Get item vectors for purchased and recommended items\n",
    "new_purchased_vectors = np.array([get_item_vector(item) for item in actual_purchases if get_item_vector(item) is not None])\n",
    "new_recommended_vectors = np.array([get_item_vector(item) for item in new_recommendations if get_item_vector(item) is not None])\n",
    "\n",
    "# Ensure vectors are not empty before computing similarity\n",
    "if new_purchased_vectors.size > 0 and new_recommended_vectors.size > 0:\n",
    "    new_similarity_matrix = cosine_similarity(new_purchased_vectors, new_recommended_vectors)\n",
    "    new_avg_similarity = new_similarity_matrix.mean()\n",
    "else:\n",
    "    new_avg_similarity = 0  # Default value if no vectors are available\n",
    "\n",
    "print(f\"New average similarity: {new_avg_similarity:.2f}\")\n"
   ]
  },
  {
   "cell_type": "code",
   "execution_count": 65,
   "id": "bc8edbbe",
   "metadata": {},
   "outputs": [
    {
     "name": "stdout",
     "output_type": "stream",
     "text": [
      "     StockCode                          Description\n",
      "3622    90162A   ANT SILVER TURQUOISE BOUDICCA RING\n",
      "3067     23101        SILVER STARS TABLE DECORATION\n",
      "3252     23223       CHRISTMAS TREE HANGING SILVER \n",
      "2130    90162C     ANT SILVER FUSCHIA BOUDICCA RING\n",
      "393     35591T            TURQUOISE CHRISTMAS TREE \n",
      "3127     23225      CHERUB HEART DECORATION SILVER \n",
      "1495    90162D      ANT SILVER PURPLE BOUDICCA RING\n",
      "3052     23102       SILVER HEARTS TABLE DECORATION\n",
      "2140     20826                SILVER APERITIF GLASS\n",
      "1494    90162B  ANT SILVER LIME GREEN BOUDICCA RING\n"
     ]
    }
   ],
   "source": [
    "def get_query_vector(query):\n",
    "    words = query.split()\n",
    "    vectors = [w2v_model.wv[word] for word in words if word in w2v_model.wv]\n",
    "    if vectors:\n",
    "        return np.mean(vectors, axis=0)\n",
    "    return None\n",
    "\n",
    "def get_recommendations_from_search(query, customer_id, top_n=10):\n",
    "    query_vector = get_query_vector(query)  # Convert search query to vector\n",
    "    if query_vector is None:\n",
    "        print(\"Query vector is None, returning empty list.\")\n",
    "        return []\n",
    "\n",
    "    # Get item vectors for unique StockCodes\n",
    "    unique_items = df.drop_duplicates(subset='StockCode')\n",
    "    item_vectors = np.array([get_item_vector(item) for item in unique_items['StockCode'] if get_item_vector(item) is not None])\n",
    "    \n",
    "    # Calculate cosine similarity\n",
    "    item_similarities = cosine_similarity(query_vector.reshape(1, -1), item_vectors).flatten()\n",
    "    \n",
    "    # Add similarity scores to the unique items dataframe\n",
    "    unique_items = unique_items.reset_index(drop=True)  # Reset index to align with similarities\n",
    "    unique_items['similarity'] = item_similarities\n",
    "    \n",
    "    # Get top N recommendations\n",
    "    search_based_recommendations = unique_items.sort_values(by='similarity', ascending=False).head(top_n)[['StockCode', 'Description']]\n",
    "    \n",
    "    return search_based_recommendations\n",
    "\n",
    "customer_id = 13402\n",
    "search_query = \"SILVER TURQUOISE BOUDICCA\"\n",
    "recommendations = get_recommendations_from_search(search_query, customer_id)\n",
    "print(recommendations)\n"
   ]
  },
  {
   "cell_type": "code",
   "execution_count": 63,
   "id": "d0d941f0",
   "metadata": {},
   "outputs": [
    {
     "name": "stdout",
     "output_type": "stream",
     "text": [
      "     StockCode                          Description\n",
      "2       84406B       CREAM CUPID HEARTS COAT HANGER\n",
      "920      22136               LOVE HEART SOCK HANGER\n",
      "839      22639        SET OF 4 NAPKIN CHARMS HEARTS\n",
      "1803     21812        GARLAND WITH HEARTS AND BELLS\n",
      "1456     85078    SCANDINAVIAN 3 HEARTS NAPKIN RING\n",
      "541      21190            PINK HEARTS PAPER GARLAND\n",
      "3655     23562  SET OF 6 RIBBONS PERFECTLY PRETTY  \n",
      "631      22173   METAL 4 HOOK HANGER FRENCH CHATEAU\n",
      "3455     23630   SET 10 CARDS HANGING BAUBLES 17080\n",
      "397      22147           FELTCRAFT BUTTERFLY HEARTS\n"
     ]
    }
   ],
   "source": [
    "print(recommendations)"
   ]
  },
  {
   "cell_type": "code",
   "execution_count": null,
   "id": "3851f03c",
   "metadata": {},
   "outputs": [],
   "source": []
  }
 ],
 "metadata": {
  "kernelspec": {
   "display_name": "venv_py311",
   "language": "python",
   "name": "python3"
  },
  "language_info": {
   "codemirror_mode": {
    "name": "ipython",
    "version": 3
   },
   "file_extension": ".py",
   "mimetype": "text/x-python",
   "name": "python",
   "nbconvert_exporter": "python",
   "pygments_lexer": "ipython3",
   "version": "3.11.11"
  }
 },
 "nbformat": 4,
 "nbformat_minor": 5
}
